{
 "cells": [
  {
   "cell_type": "code",
   "execution_count": 126,
   "id": "9269ffa6",
   "metadata": {},
   "outputs": [],
   "source": [
    "import numpy as np\n",
    "import pandas as pd\n",
    "from datetime import datetime\n",
    "from EMD_lib import cubic_spline_3pts, EMD\n",
    "import matplotlib.pyplot as plt\n",
    "from sklearn.svm import OneClassSVM\n",
    "from pyts.decomposition import SingularSpectrumAnalysis\n",
    "from pykalman import KalmanFilter"
   ]
  },
  {
   "cell_type": "code",
   "execution_count": 179,
   "id": "ce54d08c",
   "metadata": {},
   "outputs": [],
   "source": [
    "def get_data(df, mode='original', emd=False, ssa=False, kalman=False, dimension='one', window_size=0, intervals=2):\n",
    "    delta_seconds = df.timestamp.diff() / np.timedelta64(1, 's')\n",
    "    delta_seconds[np.where(delta_seconds == 0)[0]] = 1e-3\n",
    "    delta_seconds = delta_seconds[1:]\n",
    "\n",
    "    AP = df['meter_reading']\n",
    "    \n",
    "    if emd:\n",
    "        emd = EMD()\n",
    "        emd.emd(np.array(df['meter_reading']))\n",
    "        imfs, res = emd.get_imfs_and_residue()\n",
    "        df['meter_reading'] = imfs[2] + df['meter_reading'].mean()\n",
    "    elif ssa:\n",
    "        N = len(df)\n",
    "        L = 20 \n",
    "        K = N - L\n",
    "        X = np.array(df['meter_reading'])\n",
    "        X_stack = np.column_stack([X[i:i+L] for i in range(0,K)])\n",
    "        groups = [np.arange(i, i + 5) for i in range(0, 11, 5)]\n",
    "\n",
    "        ssa = SingularSpectrumAnalysis(window_size=L) #, groups=groups)\n",
    "        X_ssa = ssa.fit_transform(X_stack)\n",
    "        X = np.concatenate((X_ssa[0, 0],df['meter_reading'][K:]))\n",
    "        df['meter_reading'] = X\n",
    "    elif kalman:\n",
    "        X = np.array(df['meter_reading'])\n",
    "        kf = KalmanFilter(transition_matrices = [1],\n",
    "        observation_matrices = [1],\n",
    "        initial_state_mean = 0,\n",
    "        initial_state_covariance = 1,\n",
    "        observation_covariance=1,\n",
    "        transition_covariance=.01)\n",
    "\n",
    "        mean, cov = kf.filter(X)\n",
    "        mean, std = mean.squeeze(), np.std(cov.squeeze())\n",
    "        df['meter_reading'] = mean\n",
    "        \n",
    "    if mode == 'original':\n",
    "        if dimension == 'one':\n",
    "            return np.array(df['meter_reading'])\n",
    "        elif dimension == 'multi':\n",
    "            df['hour'] = df['timestamp'].dt.hour\n",
    "            #df['day'] = df['timestamp'].dt.day\n",
    "            df['weekday'] = df['timestamp'].dt.dayofweek\n",
    "            #df['month'] = df['timestampevent_timestamp'].dt.month\n",
    "            X = np.array(df[['meter_reading', 'hour', 'weekday']])\n",
    "            return X\n",
    "        elif dimension == 'multi_intervals':\n",
    "            X = []\n",
    "            \n",
    "            for raw in range(len(df)):\n",
    "                X_raw = []\n",
    "                X_raw.append(df.meter_reading[raw])\n",
    "                weekday = df['timestamp'][raw].dayofweek\n",
    "                for i in range(7):\n",
    "                    if i == weekday:\n",
    "                        X_raw.append(1)\n",
    "                    else:\n",
    "                        X_raw.append(0)\n",
    "                hour = df['timestamp'][raw].hour\n",
    "                for i in range(24):\n",
    "                    if i == hour:\n",
    "                        X_raw.append(1)\n",
    "                    else:\n",
    "                        X_raw.append(0)\n",
    "                minute = df['timestamp'][raw].minute\n",
    "                for i in range(60 // intervals):\n",
    "                    if (minute >= (i * intervals)) and (minute < ((i + 1) * intervals)):\n",
    "                        X_raw.append(1)\n",
    "                    else:\n",
    "                        X_raw.append(0)\n",
    "                X.append(X_raw)\n",
    "            return np.array(X)\n",
    "            \n",
    "    elif mode == 'windows':\n",
    "        ind = np.where(df.timestamp.apply(datetime.time) == datetime.strptime('00:00:00', '%H:%M:%S').time())[0]\n",
    "        ans = np.zeros((len(ind), 24))\n",
    "        prev = ind[0]\n",
    "        k = 0\n",
    "        #print(ind)\n",
    "        #print(len(ind))\n",
    "        if dimension == 'one':\n",
    "            #print(ind)\n",
    "            for i in ind[1:]:\n",
    "                #print(prev, i, np.array(df['meter_reading'].loc[prev:i - 1])[:, np.newaxis].shape[0])\n",
    "                shape_ = np.array(df['meter_reading'].loc[prev:i - 1])[:, np.newaxis].shape[0]\n",
    "                #print(shape_)\n",
    "                if shape_ != 24:\n",
    "                    print('ATTENTION')\n",
    "                    if shape_ > 720:\n",
    "                        day = np.array(df['meter_reading'].loc[prev:i])\\\n",
    "                        [shape_ - 720:]\n",
    "                    else:\n",
    "                        day = np.array(df['meter_reading'].loc[prev - (720 - shape_):i])\n",
    "                        \n",
    "                else:\n",
    "                    day = np.array(df['meter_reading'].loc[prev:i - 1])\n",
    "\n",
    "                ans[k] = day\n",
    "                prev = i\n",
    "                k += 1\n",
    "            return np.array(ans)[:-1]#.reshape(7, 720)\n",
    "        elif dimension == 'multi':\n",
    "            ans = np.zeros((len(ind), 24, 5))\n",
    "            df['hour'] = df['timestamp'].dt.hour\n",
    "            df['day'] = df['timestamp'].dt.day\n",
    "            df['weekday'] = df['timestamp'].dt.dayofweek\n",
    "            df['month'] = df['timestamp'].dt.month\n",
    "            k = 0\n",
    "            for i in ind[1:]:\n",
    "                shape_ = np.array(df['meter_reading'].loc[prev:i - 1])[:, np.newaxis].shape[0]\n",
    "                if shape_ != 24:\n",
    "                    print('ATTENTIOT')\n",
    "                    if shape_ > 720:\n",
    "                        day = np.array(df['meter_reading'].loc[prev:i])\\\n",
    "                        [shape_ - 720:]\n",
    "                        hour = np.array(df['hour'].loc[prev:i])\\\n",
    "                        [shape_ - 720:]\n",
    "                        day_ = np.array(df['day'].loc[prev:i])\\\n",
    "                        [shape_ - 720:]\n",
    "                        weekday = np.array(df['weekday'].loc[prev:i])\\\n",
    "                        [shape_ - 720:]\n",
    "                        month = np.array(df['month'].loc[prev:i])\\\n",
    "                        [shape_ - 720:]\n",
    "                    else:\n",
    "                        day = np.array(df['meter_reading'].loc[prev - (720 - shape_):i])\n",
    "                        hour = np.array(df['hour'].loc[prev - (720 - shape_):i])\n",
    "                        day_ = np.array(df['day'].loc[prev - (720 - shape_):i])\n",
    "                        weekday = np.array(df['weekday'].loc[prev - (720 - shape_):i])\n",
    "                        month = np.array(df['month'].loc[prev - (720 - shape_):i])\n",
    "                else:\n",
    "                    day = np.array(df['meter_reading'].loc[prev:i - 1])\n",
    "                    hour = np.array(df['hour'].loc[prev:i - 1])\n",
    "                    day_ = np.array(df['day'].loc[prev:i -1 ])\n",
    "                    weekday = np.array(df['weekday'].loc[prev:i-1 ])\n",
    "                    month = np.array(df['month'].loc[prev:i-1 ])\n",
    "                \n",
    "                ans[k] = np.concatenate((day[:, np.newaxis], hour[:, np.newaxis], day_[:, np.newaxis]\\\n",
    "                                         , weekday[:, np.newaxis], month[:, np.newaxis]), axis=1)\n",
    "                prev = i\n",
    "                k += 1\n",
    "            return np.array(ans)[:-1]\n",
    "        elif dimension == 'multi_intervals':\n",
    "            X = []\n",
    "            print(ind)\n",
    "            for j in ind[1:]:\n",
    "                #print(prev, j, j - prev)\n",
    "                X_day = []\n",
    "                df_day = df.loc[prev:j - 1].reset_index(drop=True)\n",
    "                #print(len(df_day))\n",
    "                '''\n",
    "                if len(df_day) != 24:\n",
    "                    print('!!!!!!!!')\n",
    "                if len(df_day) > 720:\n",
    "                    print('BIG')\n",
    "                    df_day = df_day.loc[:720].reset_index(drop=True)\n",
    "                    #print(len(df_day))\n",
    "                elif len(df_day) < 720:\n",
    "                    print('SMALL')\n",
    "                    print(len(df))\n",
    "                    if len(df) < 720*2:\n",
    "                        print('HIII')\n",
    "                        df_day = df.loc[prev - (720 - j + prev) :j - 1].reset_index(drop=True)\n",
    "                    else:\n",
    "                        df_day = df.loc[prev:(720+ prev)-1].reset_index(drop=True)\n",
    "                print(len(df_day))\n",
    "                '''\n",
    "                for raw in range(len(df_day)):\n",
    "                    X_raw = []\n",
    "                    X_raw.append(df_day.meter_reading[raw])\n",
    "                    weekday = df_day['timestamp'][raw].dayofweek\n",
    "                    for i in range(7):\n",
    "                        if i == weekday:\n",
    "                            X_raw.append(1)\n",
    "                        else:\n",
    "                            X_raw.append(0)\n",
    "                    hour = df_day['timestamp'][raw].hour\n",
    "                    for i in range(24):\n",
    "                        if i == hour:\n",
    "                            X_raw.append(1)\n",
    "                        else:\n",
    "                            X_raw.append(0)\n",
    "                    minute = df_day['timestamp'][raw].minute\n",
    "                    for i in range(60 // intervals):\n",
    "                        if (minute >= (i * intervals)) and (minute < ((i + 1) * intervals)):\n",
    "                            X_raw.append(1)\n",
    "                        else:\n",
    "                            X_raw.append(0)\n",
    "                    X_day += X_raw\n",
    "                X.append(X_day)\n",
    "                #print(prev, j)\n",
    "                prev = j\n",
    "            return np.array(X)\n",
    "    else:\n",
    "        print('INCORRECT MODE')\n",
    "        return None"
   ]
  },
  {
   "cell_type": "markdown",
   "id": "f60719d4",
   "metadata": {},
   "source": [
    "# Заметки\n",
    "1 дом - 1 модель"
   ]
  },
  {
   "cell_type": "code",
   "execution_count": 112,
   "id": "2e2ea3e7",
   "metadata": {},
   "outputs": [],
   "source": [
    "path = r'/Users/veronikalomonosova/Downloads/lead1.0-small.csv'\n",
    "elec = pd.read_csv(path)"
   ]
  },
  {
   "cell_type": "code",
   "execution_count": 113,
   "id": "05d8dba4",
   "metadata": {},
   "outputs": [],
   "source": [
    "elec.timestamp = pd.to_datetime(elec.timestamp)"
   ]
  },
  {
   "cell_type": "code",
   "execution_count": 114,
   "id": "dcdef397",
   "metadata": {},
   "outputs": [
    {
     "data": {
      "text/html": [
       "<div>\n",
       "<style scoped>\n",
       "    .dataframe tbody tr th:only-of-type {\n",
       "        vertical-align: middle;\n",
       "    }\n",
       "\n",
       "    .dataframe tbody tr th {\n",
       "        vertical-align: top;\n",
       "    }\n",
       "\n",
       "    .dataframe thead th {\n",
       "        text-align: right;\n",
       "    }\n",
       "</style>\n",
       "<table border=\"1\" class=\"dataframe\">\n",
       "  <thead>\n",
       "    <tr style=\"text-align: right;\">\n",
       "      <th></th>\n",
       "      <th>building_id</th>\n",
       "      <th>timestamp</th>\n",
       "      <th>meter_reading</th>\n",
       "      <th>anomaly</th>\n",
       "    </tr>\n",
       "  </thead>\n",
       "  <tbody>\n",
       "    <tr>\n",
       "      <th>0</th>\n",
       "      <td>1</td>\n",
       "      <td>2016-01-01 00:00:00</td>\n",
       "      <td>NaN</td>\n",
       "      <td>0</td>\n",
       "    </tr>\n",
       "    <tr>\n",
       "      <th>1</th>\n",
       "      <td>32</td>\n",
       "      <td>2016-01-01 00:00:00</td>\n",
       "      <td>NaN</td>\n",
       "      <td>0</td>\n",
       "    </tr>\n",
       "    <tr>\n",
       "      <th>2</th>\n",
       "      <td>41</td>\n",
       "      <td>2016-01-01 00:00:00</td>\n",
       "      <td>NaN</td>\n",
       "      <td>0</td>\n",
       "    </tr>\n",
       "    <tr>\n",
       "      <th>3</th>\n",
       "      <td>55</td>\n",
       "      <td>2016-01-01 00:00:00</td>\n",
       "      <td>NaN</td>\n",
       "      <td>0</td>\n",
       "    </tr>\n",
       "    <tr>\n",
       "      <th>4</th>\n",
       "      <td>69</td>\n",
       "      <td>2016-01-01 00:00:00</td>\n",
       "      <td>NaN</td>\n",
       "      <td>0</td>\n",
       "    </tr>\n",
       "    <tr>\n",
       "      <th>...</th>\n",
       "      <td>...</td>\n",
       "      <td>...</td>\n",
       "      <td>...</td>\n",
       "      <td>...</td>\n",
       "    </tr>\n",
       "    <tr>\n",
       "      <th>1749489</th>\n",
       "      <td>1316</td>\n",
       "      <td>2016-12-31 23:00:00</td>\n",
       "      <td>38.844</td>\n",
       "      <td>0</td>\n",
       "    </tr>\n",
       "    <tr>\n",
       "      <th>1749490</th>\n",
       "      <td>1318</td>\n",
       "      <td>2016-12-31 23:00:00</td>\n",
       "      <td>202.893</td>\n",
       "      <td>0</td>\n",
       "    </tr>\n",
       "    <tr>\n",
       "      <th>1749491</th>\n",
       "      <td>1319</td>\n",
       "      <td>2016-12-31 23:00:00</td>\n",
       "      <td>NaN</td>\n",
       "      <td>0</td>\n",
       "    </tr>\n",
       "    <tr>\n",
       "      <th>1749492</th>\n",
       "      <td>1323</td>\n",
       "      <td>2016-12-31 23:00:00</td>\n",
       "      <td>172.000</td>\n",
       "      <td>0</td>\n",
       "    </tr>\n",
       "    <tr>\n",
       "      <th>1749493</th>\n",
       "      <td>1353</td>\n",
       "      <td>2016-12-31 23:00:00</td>\n",
       "      <td>2.400</td>\n",
       "      <td>0</td>\n",
       "    </tr>\n",
       "  </tbody>\n",
       "</table>\n",
       "<p>1749494 rows × 4 columns</p>\n",
       "</div>"
      ],
      "text/plain": [
       "         building_id           timestamp  meter_reading  anomaly\n",
       "0                  1 2016-01-01 00:00:00            NaN        0\n",
       "1                 32 2016-01-01 00:00:00            NaN        0\n",
       "2                 41 2016-01-01 00:00:00            NaN        0\n",
       "3                 55 2016-01-01 00:00:00            NaN        0\n",
       "4                 69 2016-01-01 00:00:00            NaN        0\n",
       "...              ...                 ...            ...      ...\n",
       "1749489         1316 2016-12-31 23:00:00         38.844        0\n",
       "1749490         1318 2016-12-31 23:00:00        202.893        0\n",
       "1749491         1319 2016-12-31 23:00:00            NaN        0\n",
       "1749492         1323 2016-12-31 23:00:00        172.000        0\n",
       "1749493         1353 2016-12-31 23:00:00          2.400        0\n",
       "\n",
       "[1749494 rows x 4 columns]"
      ]
     },
     "execution_count": 114,
     "metadata": {},
     "output_type": "execute_result"
    }
   ],
   "source": [
    "elec"
   ]
  },
  {
   "cell_type": "code",
   "execution_count": 115,
   "id": "2f834ca1",
   "metadata": {},
   "outputs": [],
   "source": [
    "buildings = []\n",
    "for i in elec.building_id.unique():\n",
    "    df = elec[elec.building_id == i].reset_index(drop=True)\n",
    "    df = df.fillna(method='ffill')\n",
    "    df = df.dropna().reset_index(drop=True)\n",
    "    if df.isna().sum().sum() == 0:\n",
    "        buildings.append(df)"
   ]
  },
  {
   "cell_type": "code",
   "execution_count": 116,
   "id": "adfc50e2",
   "metadata": {},
   "outputs": [
    {
     "data": {
      "text/plain": [
       "200"
      ]
     },
     "execution_count": 116,
     "metadata": {},
     "output_type": "execute_result"
    }
   ],
   "source": [
    "len(buildings)"
   ]
  },
  {
   "cell_type": "code",
   "execution_count": 117,
   "id": "3f739b6c",
   "metadata": {},
   "outputs": [
    {
     "data": {
      "text/plain": [
       "[<matplotlib.lines.Line2D at 0x7f9c6bb8bfa0>,\n",
       " <matplotlib.lines.Line2D at 0x7f9c6bb8bfd0>,\n",
       " <matplotlib.lines.Line2D at 0x7f9c6bb981c0>,\n",
       " <matplotlib.lines.Line2D at 0x7f9c6bb982e0>]"
      ]
     },
     "execution_count": 117,
     "metadata": {},
     "output_type": "execute_result"
    },
    {
     "data": {
      "image/png": "[encoded data removed]",
      "text/plain": [
       "<Figure size 432x288 with 1 Axes>"
      ]
     },
     "metadata": {
      "needs_background": "light"
     },
     "output_type": "display_data"
    }
   ],
   "source": [
    "plt.plot(np.arange(100), df[:100])"
   ]
  },
  {
   "cell_type": "code",
   "execution_count": 145,
   "id": "7b90743a",
   "metadata": {},
   "outputs": [
    {
     "data": {
      "text/plain": [
       "[<matplotlib.lines.Line2D at 0x7f9cc1918bb0>]"
      ]
     },
     "execution_count": 145,
     "metadata": {},
     "output_type": "execute_result"
    },
    {
     "data": {
      "image/png": "[encoded data removed]",
      "text/plain": [
       "<Figure size 432x288 with 1 Axes>"
      ]
     },
     "metadata": {
      "needs_background": "light"
     },
     "output_type": "display_data"
    }
   ],
   "source": [
    "plt.plot(np.arange(1000), df[:1000])"
   ]
  },
  {
   "cell_type": "code",
   "execution_count": 185,
   "id": "95e71358",
   "metadata": {},
   "outputs": [
    {
     "name": "stdout",
     "output_type": "stream",
     "text": [
      "[   6   30   54   78  102  126  150  174  198  222  246  270  294  318\n",
      "  342  366  390  414  438  462  486  510  534  558  582  606  630  654\n",
      "  678  702  726  750  774  798  822  846  870  894  918  942  966  990\n",
      " 1014 1038 1062 1086 1110 1134 1158 1182 1206 1230 1254 1278 1302 1326\n",
      " 1350 1374 1398 1422 1446 1470 1494 1518 1542 1566 1590 1614 1638 1662\n",
      " 1686 1710 1734 1758 1782 1806 1830 1854 1878 1902 1926 1950 1974 1998\n",
      " 2022 2046 2070 2094 2118 2142 2166 2190 2214 2238 2262 2286 2310 2334\n",
      " 2358 2382 2406 2430 2454 2478 2502 2526 2550 2574 2598 2622 2646 2670\n",
      " 2694 2718 2742 2766 2790 2814 2838 2862 2886 2910 2934 2958 2982 3006\n",
      " 3030 3054 3078 3102 3126 3150 3174 3198 3222 3246 3270 3294 3318 3342\n",
      " 3366 3390 3414 3438 3462 3486 3510 3534 3558 3582 3606 3630 3654 3678\n",
      " 3702 3726 3750 3774 3798 3822 3846 3870 3894 3918 3942 3966 3990 4014\n",
      " 4038 4062 4086 4110 4134 4158 4182 4206 4230 4254 4278 4302 4326 4350\n",
      " 4374 4398 4422 4446 4470 4494 4518 4542 4566 4590 4614 4638 4662 4686\n",
      " 4710 4734 4758 4782 4806 4830 4854 4878 4902 4926 4950 4974 4998 5022\n",
      " 5046 5070 5094 5118 5142 5166 5190 5214 5238 5262 5286 5310 5334 5358\n",
      " 5382]\n"
     ]
    }
   ],
   "source": [
    "df = get_data(buildings[0], mode='windows', dimension='multi_intervals', ssa=True, intervals=5)"
   ]
  },
  {
   "cell_type": "code",
   "execution_count": 186,
   "id": "5a8d6561",
   "metadata": {},
   "outputs": [
    {
     "data": {
      "text/plain": [
       "(224, 1056)"
      ]
     },
     "execution_count": 186,
     "metadata": {},
     "output_type": "execute_result"
    }
   ],
   "source": [
    "df.shape"
   ]
  },
  {
   "cell_type": "code",
   "execution_count": 177,
   "id": "8011efaf",
   "metadata": {},
   "outputs": [
    {
     "data": {
      "text/plain": [
       "array([32.3963744 , 32.40002413, 32.40388604, ..., 35.18252702,\n",
       "       35.18405517, 35.18512755])"
      ]
     },
     "execution_count": 177,
     "metadata": {},
     "output_type": "execute_result"
    }
   ],
   "source": [
    "get_data(buildings[0], mode='original', dimension='one', kalman=False, )"
   ]
  },
  {
   "cell_type": "code",
   "execution_count": null,
   "id": "fcc1e5f8",
   "metadata": {},
   "outputs": [],
   "source": []
  }
 ],
 "metadata": {
  "kernelspec": {
   "display_name": "Python 3 (ipykernel)",
   "language": "python",
   "name": "python3"
  },
  "language_info": {
   "codemirror_mode": {
    "name": "ipython",
    "version": 3
   },
   "file_extension": ".py",
   "mimetype": "text/x-python",
   "name": "python",
   "nbconvert_exporter": "python",
   "pygments_lexer": "ipython3",
   "version": "3.9.7"
  }
 },
 "nbformat": 4,
 "nbformat_minor": 5
}
