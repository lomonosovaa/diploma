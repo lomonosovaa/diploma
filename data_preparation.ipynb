{
 "cells": [
  {
   "cell_type": "code",
   "execution_count": 22,
   "id": "63c49522",
   "metadata": {},
   "outputs": [],
   "source": [
    "import numpy as np\n",
    "import pandas as pd\n",
    "from datetime import datetime\n",
    "import matplotlib.pyplot as plt"
   ]
  },
  {
   "cell_type": "code",
   "execution_count": 23,
   "id": "9359c016",
   "metadata": {},
   "outputs": [],
   "source": [
    "def get_data(df, mode='original', emd=False, dimension='one', window_size=0):\n",
    "    delta_seconds = df.event_timestamp.diff() / np.timedelta64(1, 's')\n",
    "    delta_seconds[np.where(delta_seconds == 0)[0]] = 1e-3\n",
    "    delta_seconds = delta_seconds[1:]\n",
    "\n",
    "    AP = df['Total_AP_energy_max']\n",
    "\n",
    "    a = []\n",
    "    for j, i in enumerate(df['Total_AP_energy_max']):\n",
    "        try:\n",
    "            i = float(i)\n",
    "        except ValueError:\n",
    "            a.append(j)\n",
    "    for i in a:\n",
    "        AP[i] = AP[i - 1]\n",
    "\n",
    "    AP = np.diff(np.array(AP, dtype = float)) * 1000\n",
    "    X = AP / delta_seconds\n",
    "    df['total_AP'] = X\n",
    "    if emd:\n",
    "        emd = ams()\n",
    "        emd.emd(X)\n",
    "        imfs, res = emd.get_imfs_and_residue()\n",
    "        df['total_AP'] = imfs[2] + X.mean()\n",
    "    if mode == 'original':   \n",
    "        if dimension == 'one':\n",
    "            return np.array(X)\n",
    "        else:\n",
    "            df['hour'] = df['event_timestamp'].dt.hour\n",
    "            df['day'] = df['event_timestamp'].dt.day\n",
    "            df['weekday'] = df['event_timestamp'].dt.dayofweek\n",
    "            df['month'] = df['event_timestamp'].dt.month\n",
    "            X = np.array(df[['total_AP', 'hour', 'day', 'weekday', 'month']])\n",
    "            return X\n",
    "    elif mode == 'only_days':\n",
    "        df = df[(df.event_timestamp.apply(datetime.time) < datetime.strptime('19:00:00', '%H:%M:%S').time()) & \\\n",
    "             (df.event_timestamp.apply(datetime.time) > datetime.strptime('6:40:00', '%H:%M:%S').time())].reset_index(drop=True)\n",
    "        if dimension == 'one':\n",
    "            return np.array(df['total_AP'])\n",
    "        else:\n",
    "            df['hour'] = df['event_timestamp'].dt.hour\n",
    "            df['day'] = df['event_timestamp'].dt.day\n",
    "            df['weekday'] = df['event_timestamp'].dt.dayofweek\n",
    "            df['month'] = df['event_timestamp'].dt.month\n",
    "            X = np.array(df[['total_AP', 'hour', 'day', 'weekday', 'month']])\n",
    "            return X\n",
    "    elif mode == 'windows':\n",
    "        ind = np.where(df.event_timestamp.apply(datetime.time) == datetime.strptime('00:00:00', '%H:%M:%S').time())\n",
    "        ans = []\n",
    "        prev = 0\n",
    "        if dimension == 'one':\n",
    "            for i in ind:\n",
    "                ans.append(X[prev:i])\n",
    "                prev = i\n",
    "            return np.array(ans)\n",
    "        else:\n",
    "            df['hour'] = df['event_timestamp'].dt.hour\n",
    "            df['day'] = df['event_timestamp'].dt.day\n",
    "            df['weekday'] = df['event_timestamp'].dt.dayofweek\n",
    "            df['month'] = df['event_timestamp'].dt.month\n",
    "            for i in ind:\n",
    "                ans.append(np.array(df[['total_AP', 'hour', 'day', 'weekday', 'month']][prev:i]))\n",
    "                prev = i\n",
    "            return np.array(ans)\n",
    "                \n",
    "    else:\n",
    "        print('INCORRECT MODE')\n",
    "        return None\n",
    "    "
   ]
  },
  {
   "cell_type": "code",
   "execution_count": null,
   "id": "35a3b2ed",
   "metadata": {},
   "outputs": [],
   "source": [
    "'''\n",
    "!!!!!!!!!!!!!!!!!!!!!!!!! мб EMD нужно делать окнами !!!!!!!!!!!!!!!!!!!!!!!!!!!!\n",
    "curr = S[start[i]: end[i]]\n",
    "  emd = EMD()\n",
    "  emd.emd(curr)\n",
    "  imfs, res = emd.get_imfs_and_residue()\n",
    "  S[start[i]: end[i]] = imfs[2] + curr.mean()\n",
    "'''\n",
    "\n",
    "'''\n",
    "original\n",
    "original emd\n",
    "original multi\n",
    "original multi emd\n",
    "\n",
    "only_days\n",
    "only_days emd\n",
    "only_days multi\n",
    "only_days multi emd\n",
    "\n",
    "windows\n",
    "windows emd\n",
    "windows multi\n",
    "windows multi emd\n",
    "'''"
   ]
  },
  {
   "cell_type": "code",
   "execution_count": 12,
   "id": "716b3373",
   "metadata": {},
   "outputs": [
    {
     "name": "stderr",
     "output_type": "stream",
     "text": [
      "/Users/veronikalomonosova/opt/anaconda3/lib/python3.9/site-packages/IPython/core/interactiveshell.py:3444: DtypeWarning: Columns (9,10,11,12,13,16,24,25,26,27,28,31,39,40,41,42,43,46) have mixed types.Specify dtype option on import or set low_memory=False.\n",
      "  exec(code_obj, self.user_global_ns, self.user_ns)\n"
     ]
    }
   ],
   "source": [
    "elec = pd.read_csv(r'/Users/veronikalomonosova/Downloads/iqds/ds_electricity.csv')"
   ]
  },
  {
   "cell_type": "code",
   "execution_count": 13,
   "id": "e103640b",
   "metadata": {},
   "outputs": [],
   "source": [
    "anom_0 = elec[elec.io_id == '5e03a7a2832a17ee33585ea4'].reset_index(drop=True)\n",
    "anom_0.event_timestamp = pd.to_datetime(anom_0.event_timestamp, unit='s')"
   ]
  },
  {
   "cell_type": "code",
   "execution_count": 16,
   "id": "16eeb338",
   "metadata": {},
   "outputs": [],
   "source": [
    "df = anom_0.loc[532778 - 730 * 10:532778 + 720 * 10].reset_index(drop=True) "
   ]
  },
  {
   "cell_type": "code",
   "execution_count": 26,
   "id": "5a8dae5b",
   "metadata": {},
   "outputs": [],
   "source": [
    "df = get_data(df)"
   ]
  },
  {
   "cell_type": "code",
   "execution_count": 27,
   "id": "34b3002d",
   "metadata": {},
   "outputs": [
    {
     "data": {
      "text/plain": [
       "[<matplotlib.lines.Line2D at 0x7ff70a8d10d0>]"
      ]
     },
     "execution_count": 27,
     "metadata": {},
     "output_type": "execute_result"
    },
    {
     "data": {
      "image/png": "[encoded data removed]",
      "text/plain": [
       "<Figure size 864x576 with 1 Axes>"
      ]
     },
     "metadata": {
      "needs_background": "light"
     },
     "output_type": "display_data"
    }
   ],
   "source": [
    "plt.figure(figsize=(12,8))\n",
    "plt.plot(np.arange(len(df)), df)"
   ]
  },
  {
   "cell_type": "code",
   "execution_count": null,
   "id": "0e3c53ca",
   "metadata": {},
   "outputs": [],
   "source": []
  }
 ],
 "metadata": {
  "kernelspec": {
   "display_name": "Python 3 (ipykernel)",
   "language": "python",
   "name": "python3"
  },
  "language_info": {
   "codemirror_mode": {
    "name": "ipython",
    "version": 3
   },
   "file_extension": ".py",
   "mimetype": "text/x-python",
   "name": "python",
   "nbconvert_exporter": "python",
   "pygments_lexer": "ipython3",
   "version": "3.9.7"
  }
 },
 "nbformat": 4,
 "nbformat_minor": 5
}
